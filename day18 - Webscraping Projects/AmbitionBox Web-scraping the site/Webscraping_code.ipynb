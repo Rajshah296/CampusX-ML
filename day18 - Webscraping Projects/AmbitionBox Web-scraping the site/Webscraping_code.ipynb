{
 "cells": [
  {
   "cell_type": "code",
   "execution_count": null,
   "metadata": {
    "colab": {
     "base_uri": "https://localhost:8080/"
    },
    "id": "3dbfoALlKjGH",
    "outputId": "4af3e727-8084-432c-f7b4-eb2d3313e4ce"
   },
   "outputs": [],
   "source": [
    "!pip install tqdm"
   ]
  },
  {
   "cell_type": "code",
   "execution_count": 3,
   "metadata": {
    "id": "1HWPovK6DJu4"
   },
   "outputs": [],
   "source": [
    "import pandas as pd\n",
    "import requests\n",
    "from bs4 import BeautifulSoup\n",
    "import bs4\n",
    "import numpy as np\n",
    "from tqdm import tqdm\n",
    "from IPython.display import display\n",
    "from tqdm import tqdm\n"
   ]
  },
  {
   "cell_type": "markdown",
   "metadata": {
    "id": "E5reoB7iLx4t"
   },
   "source": [
    "# Accessing the website URL using proxies"
   ]
  },
  {
   "cell_type": "code",
   "execution_count": 2,
   "metadata": {
    "id": "y34tYt_0DJvA"
   },
   "outputs": [],
   "source": [
    "headers = {\n",
    "    \"User-Agent\": \"Mozilla/5.0 (Windows NT 10.0; Win64; x64) AppleWebKit/537.36 (KHTML, like Gecko) Chrome/80.0.3987.162 Safari/537.36\"\n",
    "}\n",
    "# for i in proxies:\n",
    "#     try:\n",
    "#         print(f\"Using proxy: {i}\")\n",
    "#         res = requests.get(\"https://www.ambitionbox.com/list-of-companies?page=1\", proxies = {\"http\" : i,  \"https\" : i}, headers = headers)\n",
    "#         if res.status_code == 200:\n",
    "#             print(\"PROXY SUCCESSFULL.\")\n",
    "#             webpage = res.text\n",
    "#             break\n",
    "#     except:\n",
    "#         print(f\"Proxy {i} is not working\")\n",
    "#         continue"
   ]
  },
  {
   "cell_type": "code",
   "execution_count": null,
   "metadata": {
    "id": "Re29_zdADJvI"
   },
   "outputs": [],
   "source": [
    "soup = BeautifulSoup(webpage, 'lxml')"
   ]
  },
  {
   "cell_type": "code",
   "execution_count": null,
   "metadata": {
    "colab": {
     "base_uri": "https://localhost:8080/"
    },
    "id": "vC964sKFDJvJ",
    "outputId": "8e6b7e79-0ec2-4efb-df03-e9ef5400056c"
   },
   "outputs": [],
   "source": [
    "print(soup.prettify())"
   ]
  },
  {
   "cell_type": "code",
   "execution_count": null,
   "metadata": {
    "id": "TZCIbSZsDJvM"
   },
   "outputs": [],
   "source": [
    "soup.find_all('h1')[0].text.strip('\\n\\t')"
   ]
  },
  {
   "cell_type": "code",
   "execution_count": null,
   "metadata": {
    "id": "MA-nfbf0DJvX"
   },
   "outputs": [],
   "source": [
    "soup.find_all('h2')"
   ]
  },
  {
   "cell_type": "code",
   "execution_count": null,
   "metadata": {
    "id": "7jP6NCoADJvZ"
   },
   "outputs": [],
   "source": [
    "Company_name=[]\n",
    "Rating = []\n",
    "Industry=[]\n",
    "Reviews=[]\n",
    "URLs=[]\n",
    "Highly_rated_for=[]\n",
    "Critically_rated_for=[]"
   ]
  },
  {
   "cell_type": "code",
   "execution_count": null,
   "metadata": {
    "id": "GYEb6zdjDJvZ"
   },
   "outputs": [],
   "source": [
    "for i in soup.find_all('h2')[:-4]:\n",
    "    Company_name.append(i.text.strip('\\n\\t'))\n",
    "\n",
    "Company_name"
   ]
  },
  {
   "cell_type": "code",
   "execution_count": null,
   "metadata": {
    "id": "N0b02jdODJva"
   },
   "outputs": [],
   "source": [
    "for i in soup.find_all('span',class_=\"companyCardWrapper__companyRatingValue\"):\n",
    "    Rating.append(i.text)"
   ]
  },
  {
   "cell_type": "code",
   "execution_count": null,
   "metadata": {
    "id": "O03zBM6iDJvh"
   },
   "outputs": [],
   "source": [
    "for i in soup.find_all('span',class_=\"companyCardWrapper__interLinking\"):\n",
    "    Industry.append(i.text.strip('\\n\\t').split('|')[0].strip())"
   ]
  },
  {
   "cell_type": "code",
   "execution_count": null,
   "metadata": {
    "id": "JNXb1paEDJvi"
   },
   "outputs": [],
   "source": [
    "Industry"
   ]
  },
  {
   "cell_type": "code",
   "execution_count": null,
   "metadata": {
    "id": "IJGSC6MqDJvj"
   },
   "outputs": [],
   "source": [
    "for i in soup.find_all('meta', itemprop=\"url\"):\n",
    "    URLs.append(i.attrs['content'])"
   ]
  },
  {
   "cell_type": "code",
   "execution_count": null,
   "metadata": {
    "id": "cKeCe4HTDJvp"
   },
   "outputs": [],
   "source": [
    "URLs = URLs[1:]"
   ]
  },
  {
   "cell_type": "code",
   "execution_count": null,
   "metadata": {
    "id": "0E8dwqmKDJvq"
   },
   "outputs": [],
   "source": [
    "URLs"
   ]
  },
  {
   "cell_type": "code",
   "execution_count": null,
   "metadata": {
    "id": "gcKgr6TQDJvr"
   },
   "outputs": [],
   "source": [
    "\n",
    "for element in soup.find_all('div',class_=\"companyCardWrapper\"):\n",
    "    tag = element.find('div', attrs = {'class' : \"companyCardWrapper__ratingComparisonWrapper\" })\n",
    "\n",
    "    if tag:\n",
    "        children_tags = [child for child in tag.children if isinstance(child, bs4.element.Tag) and child.name == \"div\"]\n",
    "        if (len(children_tags) == 1):\n",
    "            tag_obj = children_tags[0]\n",
    "            if(tag_obj.find('span',attrs = {'class' : \"companyCardWrapper__ratingHeader--high\" })):\n",
    "                Highly_rated_for.append(tag_obj.find('span', attrs={'class' : \"companyCardWrapper__ratingValues\"}).text.strip())\n",
    "                Critically_rated_for.append(np.nan)\n",
    "            else:\n",
    "                Highly_rated_for.append(np.nan)\n",
    "                Critically_rated_for.append(tag_obj.find('span', attrs={'class' : \"companyCardWrapper__ratingValues\"}).text.strip())\n",
    "\n",
    "        else:\n",
    "            Highly_rated_for.append(children_tags[0].find('span', attrs={'class' : \"companyCardWrapper__ratingValues\"}).text.strip())\n",
    "            Critically_rated_for.append(children_tags[1].find('span', attrs = {'class' : \"companyCardWrapper__ratingValues\"}).text.strip())\n",
    "\n",
    "    else:\n",
    "        continue"
   ]
  },
  {
   "cell_type": "code",
   "execution_count": null,
   "metadata": {
    "id": "sk8vCSHYDJvs"
   },
   "outputs": [],
   "source": [
    "print(Highly_rated_for)\n",
    "print(Critically_rated_for)"
   ]
  },
  {
   "cell_type": "code",
   "execution_count": null,
   "metadata": {
    "id": "6YPay1fRDJvz"
   },
   "outputs": [],
   "source": [
    "for i in soup.find_all('a',href=True,class_=\"companyCardWrapper__ActionWrapper\"):\n",
    "    href = i.get('href')\n",
    "    if 'reviews' in href.lower():\n",
    "        Reviews.append(i.find('span',attrs={'class':\"companyCardWrapper__ActionCount\"}).text.strip())"
   ]
  },
  {
   "cell_type": "code",
   "execution_count": null,
   "metadata": {
    "id": "8tiXEBB7DJv1"
   },
   "outputs": [],
   "source": [
    "Reviews"
   ]
  },
  {
   "cell_type": "code",
   "execution_count": null,
   "metadata": {
    "id": "7ZKKPkCbDJv2"
   },
   "outputs": [],
   "source": [
    "df = pd.DataFrame({'Company_name': Company_name,'Ratings': Rating,'Industry' : Industry,'Reviews' : Reviews,'URL' : URLs,'Highly_rated_for' : Highly_rated_for,'Critically_rated_for' : Critically_rated_for})\n",
    "df"
   ]
  },
  {
   "cell_type": "code",
   "execution_count": null,
   "metadata": {},
   "outputs": [
    {
     "name": "stderr",
     "output_type": "stream",
     "text": [
      "Scraping Pages:   5%|▌         | 17/333 [24:35<7:28:15, 85.11s/it] "
     ]
    },
    {
     "name": "stdout",
     "output_type": "stream",
     "text": [
      "Proxy is not working.\n"
     ]
    },
    {
     "name": "stderr",
     "output_type": "stream",
     "text": [
      "Scraping Pages:  43%|████▎     | 142/333 [3:08:13<4:05:49, 77.22s/it]"
     ]
    },
    {
     "name": "stdout",
     "output_type": "stream",
     "text": [
      "Proxy is not working.\n",
      "Proxy is not working.\n",
      "Proxy is not working.\n",
      "Proxy is not working.\n"
     ]
    },
    {
     "name": "stderr",
     "output_type": "stream",
     "text": [
      "Scraping Pages:  45%|████▌     | 151/333 [3:20:01<3:59:46, 79.04s/it]"
     ]
    },
    {
     "name": "stdout",
     "output_type": "stream",
     "text": [
      "Proxy is not working.\n"
     ]
    },
    {
     "name": "stderr",
     "output_type": "stream",
     "text": [
      "Scraping Pages:  47%|████▋     | 157/333 [3:28:43<4:04:28, 83.34s/it]"
     ]
    },
    {
     "name": "stdout",
     "output_type": "stream",
     "text": [
      "Proxy is not working.\n",
      "Proxy is not working.\n",
      "Proxy is not working.\n",
      "Proxy is not working.\n"
     ]
    },
    {
     "name": "stderr",
     "output_type": "stream",
     "text": [
      "Scraping Pages:  54%|█████▍    | 179/333 [3:59:12<3:39:55, 85.69s/it]"
     ]
    },
    {
     "name": "stdout",
     "output_type": "stream",
     "text": [
      "Proxy is not working.\n",
      "Proxy is not working.\n",
      "Proxy is not working.\n",
      "Proxy is not working.\n",
      "Proxy is not working.\n"
     ]
    },
    {
     "name": "stderr",
     "output_type": "stream",
     "text": [
      "Scraping Pages:  99%|█████████▉| 330/333 [7:19:27<03:59, 79.90s/it]  "
     ]
    },
    {
     "name": "stdout",
     "output_type": "stream",
     "text": [
      "Scraping completed!\n"
     ]
    },
    {
     "name": "stderr",
     "output_type": "stream",
     "text": [
      "\n"
     ]
    }
   ],
   "source": [
    "import queue\n",
    "import threading\n",
    "Company_name=[]\n",
    "Rating = []\n",
    "Industry=[]\n",
    "Reviews=[]\n",
    "Highly_rated_for=[]\n",
    "Critically_rated_for=[]\n",
    "Age = []\n",
    "Description = []    \n",
    "Headquarters = []\n",
    "Ownership = []\n",
    "Employee_count = []\n",
    "with open('valid_proxies.txt', \"r\") as f:\n",
    "    proxies=tuple(f.read().split(\"\\n\"))\n",
    "    \n",
    "def progress_update(pbar):\n",
    "    # Update progress bar based on counter value (implementation depends on library)\n",
    "    pbar.update(1)\n",
    "\n",
    "def worker(proxies, url_queue, pbar, url_lock):\n",
    "    while not url_queue.empty():\n",
    "        url = url_queue.get()\n",
    "        page_content = download_page(url, proxies)  \n",
    "        with url_lock:\n",
    "            if page_content:\n",
    "                scrap_page(page_content)\n",
    "                progress_update(pbar)\n",
    "\n",
    "                \n",
    "def download_page(url, proxies):\n",
    "    for proxy in proxies:\n",
    "        try:\n",
    "            res = requests.get(url, proxies={\"http\": proxy, \"https\": proxy}, headers=headers)\n",
    "            if res.status_code == 200:\n",
    "                return res.text\n",
    "        except:\n",
    "            print(\"Proxy is not working.\")\n",
    "            continue\n",
    "    return None\n",
    "            \n",
    "def scrap_page(webpage):\n",
    "    try:\n",
    "        soup = BeautifulSoup(webpage, 'lxml')\n",
    "        for element in soup.find_all('div',class_=\"companyCardWrapper\"):\n",
    "\n",
    "            for i in element.find('h2',attrs={'class':\"companyCardWrapper__companyName\"}):\n",
    "                Company_name.append(i.text.strip('\\n\\t'))\n",
    "\n",
    "            rating_tag = element.find('span',attrs={'class' : \"companyCardWrapper__companyRatingValue\"})\n",
    "            if rating_tag:\n",
    "                Rating.append(rating_tag.text.strip())\n",
    "            else:\n",
    "                Rating.append(np.nan)\n",
    "\n",
    "            for i in element.find_all('span',class_=\"companyCardWrapper__interLinking\"):\n",
    "                Industry.append(i.text.strip('\\n\\t').split('|')[0].strip())\n",
    "\n",
    "            for i in element.find_all('meta', attrs = {'itemprop': \"url\"}):\n",
    "                url=i.attrs['content']\n",
    "                webpage = download_page(url, proxies)\n",
    "                if webpage:\n",
    "                    scrap_company_page(webpage)\n",
    "                else:\n",
    "                    Age.append(np.nan)\n",
    "                    Description.append(np.nan)\n",
    "                    Headquarters.append(np.nan)\n",
    "                    Ownership.append(np.nan)\n",
    "                    Employee_count.append(np.nan)\n",
    "\n",
    "            tag = element.find('div', attrs = {'class' : \"companyCardWrapper__ratingComparisonWrapper\" })\n",
    "            if tag:\n",
    "                children_tags = [child for child in tag.children if isinstance(child, bs4.element.Tag) and child.name == \"div\"]\n",
    "                if (len(children_tags) == 1):\n",
    "                    tag_obj = children_tags[0]\n",
    "                    if(tag_obj.find('span',attrs = {'class' : \"companyCardWrapper__ratingHeader--high\" })):\n",
    "                        Highly_rated_for.append(tag_obj.find('span', attrs={'class' : \"companyCardWrapper__ratingValues\"}).text.strip())\n",
    "                        Critically_rated_for.append(np.nan)\n",
    "                    else:\n",
    "                        Highly_rated_for.append(np.nan)\n",
    "                        Critically_rated_for.append(tag_obj.find('span', attrs={'class' : \"companyCardWrapper__ratingValues\"}).text.strip())\n",
    "                else:\n",
    "                        Highly_rated_for.append(children_tags[0].find('span', attrs={'class' : \"companyCardWrapper__ratingValues\"}).text.strip())\n",
    "                        Critically_rated_for.append(children_tags[1].find('span', attrs = {'class' : \"companyCardWrapper__ratingValues\"}).text.strip())\n",
    "\n",
    "            else:\n",
    "                Highly_rated_for.append(np.nan)\n",
    "                Critically_rated_for.append(np.nan)\n",
    "                continue\n",
    "\n",
    "        for i in soup.find_all('a',href=True,class_=\"companyCardWrapper__ActionWrapper\"):\n",
    "            href = i.get('href').lower()\n",
    "            if 'reviews' in href:\n",
    "                Reviews.append(i.find('span',class_=\"companyCardWrapper__ActionCount\").text.strip())\n",
    "            else:\n",
    "                pass\n",
    "\n",
    "    except AttributeError as e:\n",
    "        print(f\"Error parsing data on page {i}: {e}\")\n",
    "    except Exception as e:\n",
    "        print(f\"Unexpected error on page {i}: {e}\")\n",
    "        \n",
    "def scrap_company_page(webpage):\n",
    "    soup = BeautifulSoup(webpage,'lxml')\n",
    "    table = soup.find_all('ul',class_=\"aboutTable\")\n",
    "    if table:\n",
    "        for element in table:\n",
    "            child_points = [child for child in element.children if child.name=='li']\n",
    "            age_tag=child_points[0].find(class_=\"textItem__val aboutItem__value\")\n",
    "            owner_tag= child_points[1].find(class_=\"textItem__val aboutItem__value\")\n",
    "            employee_tag= child_points[3].find(class_=\"textItem__val aboutItem__value\")\n",
    "            headquarters_tag= child_points[4].find(class_=\"textItem__val aboutItem__value\")\n",
    "            Age.append(age_tag.text.strip() if age_tag else np.nan)\n",
    "            Ownership.append(owner_tag.text.strip() if owner_tag else np.nan)\n",
    "            Employee_count.append(employee_tag.text.strip() if employee_tag else np.nan)\n",
    "            Headquarters.append(headquarters_tag.text.strip() if headquarters_tag else np.nan)\n",
    "    else: \n",
    "        Age.append(np.nan)\n",
    "        Headquarters.append(np.nan)\n",
    "        Ownership.append(np.nan)\n",
    "        Employee_count.append(np.nan)\n",
    "    if(soup.find('div',itemprop=\"description\")):\n",
    "        tag = soup.find('div',itemprop=\"description\")\n",
    "        Description.append(tag.text.strip())\n",
    "    else:\n",
    "        Description.append(np.nan)\n",
    "\n",
    "def main():\n",
    "    url_queue = queue.Queue()\n",
    "    url_lock = threading.Lock()\n",
    "    urls = [f\"https://www.ambitionbox.com/list-of-companies?page={i}\" for i in  range(1, 334)]\n",
    "    for i in urls:\n",
    "        url_queue.put(i)\n",
    "    pbar = tqdm(total=len(urls), desc=\"Scraping Pages: \")\n",
    "\n",
    "    threads = []\n",
    "    for _ in range(4):\n",
    "        thread = threading.Thread(target=worker, args=(proxies, url_queue, pbar, url_lock))\n",
    "        threads.append(thread)\n",
    "        thread.start()\n",
    "\n",
    "    # Wait for all threads to finish\n",
    "    for thread in threads:\n",
    "        thread.join()\n",
    "\n",
    "    print(\"Scraping completed!\")\n",
    "if __name__ == \"__main__\":\n",
    "    main()"
   ]
  },
  {
   "cell_type": "code",
   "execution_count": 14,
   "metadata": {},
   "outputs": [],
   "source": [
    "df = pd.DataFrame({'Company_name': Company_name,'Ratings': Rating,'Industry' : Industry,'Review_count' : Reviews,'Highly_rated_for' : Highly_rated_for,'Critically_rated_for'\n",
    ": Critically_rated_for})\n",
    "\n",
    "df.to_csv('Company_Details_part1.csv')"
   ]
  },
  {
   "cell_type": "code",
   "execution_count": 15,
   "metadata": {
    "id": "ghupIkYcdhbO"
   },
   "outputs": [
    {
     "name": "stdout",
     "output_type": "stream",
     "text": [
      "6600\n",
      "6600\n",
      "6600\n",
      "6600\n",
      "6600\n",
      "6600\n",
      "6600\n",
      "6600\n",
      "6600\n",
      "6600\n"
     ]
    }
   ],
   "source": [
    "\n",
    "print(len(Company_name))\n",
    "print(len(Rating))\n",
    "print(len(Industry))\n",
    "print(len(Highly_rated_for))\n",
    "print(len(Critically_rated_for))\n",
    "print(len(Age))\n",
    "print(len(Description))\n",
    "print(len(Headquarters))\n",
    "print(len(Ownership))\n",
    "print(len(Employee_count))\n",
    "\n",
    "\n",
    "\n",
    "df2 = pd.DataFrame({'Company_name': Company_name, 'Headquarters' : Headquarters, 'Industry' : Industry, 'Description' : Description, 'Age':Age, 'Ownership' : Ownership, 'Employee_count' : Employee_count,'Ratings': Rating,'Highly_rated_for' : Highly_rated_for,'Critically_rated_for' : Critically_rated_for, 'Review_count' : Reviews})\n",
    "\n",
    "df2.to_csv('Company_Details.csv')"
   ]
  },
  {
   "cell_type": "code",
   "execution_count": null,
   "metadata": {
    "colab": {
     "base_uri": "https://localhost:8080/"
    },
    "id": "o06exkRmSwhy",
    "outputId": "43f44069-eb9e-44c7-af01-c2df34fcad35"
   },
   "outputs": [],
   "source": [
    "print(len(Company_name))\n",
    "print(len(Rating))\n",
    "print(len(Industry))\n",
    "print(len(Reviews))\n",
    "print(len(URLs))\n",
    "print(len(Highly_rated_for))\n",
    "print(len(Critically_rated_for))\n",
    "# for i in Company_name:\n",
    "#     print(i+ \"\\n\")"
   ]
  },
  {
   "cell_type": "code",
   "execution_count": 16,
   "metadata": {
    "id": "ySrAJEiPDrAs"
   },
   "outputs": [
    {
     "data": {
      "text/html": [
       "<div>\n",
       "<style scoped>\n",
       "    .dataframe tbody tr th:only-of-type {\n",
       "        vertical-align: middle;\n",
       "    }\n",
       "\n",
       "    .dataframe tbody tr th {\n",
       "        vertical-align: top;\n",
       "    }\n",
       "\n",
       "    .dataframe thead th {\n",
       "        text-align: right;\n",
       "    }\n",
       "</style>\n",
       "<table border=\"1\" class=\"dataframe\">\n",
       "  <thead>\n",
       "    <tr style=\"text-align: right;\">\n",
       "      <th></th>\n",
       "      <th>Company_name</th>\n",
       "      <th>Headquarters</th>\n",
       "      <th>Industry</th>\n",
       "      <th>Description</th>\n",
       "      <th>Age</th>\n",
       "      <th>Ownership</th>\n",
       "      <th>Employee_count</th>\n",
       "      <th>Ratings</th>\n",
       "      <th>Highly_rated_for</th>\n",
       "      <th>Critically_rated_for</th>\n",
       "      <th>Review_count</th>\n",
       "    </tr>\n",
       "  </thead>\n",
       "  <tbody>\n",
       "    <tr>\n",
       "      <th>0</th>\n",
       "      <td>ICICI Prudential Life Insurance</td>\n",
       "      <td>Mumbai, Maharashtra, India</td>\n",
       "      <td>Insurance</td>\n",
       "      <td>ICICI Prudential Life Insurance Company Limite...</td>\n",
       "      <td>2000 (24 yrs old)</td>\n",
       "      <td>Public</td>\n",
       "      <td>10k-50k</td>\n",
       "      <td>4.1</td>\n",
       "      <td>Job Security, Skill Development / Learning, Sa...</td>\n",
       "      <td>NaN</td>\n",
       "      <td>5.8k</td>\n",
       "    </tr>\n",
       "    <tr>\n",
       "      <th>1</th>\n",
       "      <td>Bajaj Finance</td>\n",
       "      <td>Pune, Maharashtra, India</td>\n",
       "      <td>NBFC</td>\n",
       "      <td>Bajaj Finance Limited is the most diversified ...</td>\n",
       "      <td>1987 (37 yrs old)</td>\n",
       "      <td>Private</td>\n",
       "      <td>10k-50k</td>\n",
       "      <td>4.1</td>\n",
       "      <td>Salary &amp; Benefits, Skill Development / Learnin...</td>\n",
       "      <td>NaN</td>\n",
       "      <td>5.8k</td>\n",
       "    </tr>\n",
       "    <tr>\n",
       "      <th>2</th>\n",
       "      <td>Jana Small Finance Bank</td>\n",
       "      <td>Bangalore/Bengaluru, Karnataka, India</td>\n",
       "      <td>Banking</td>\n",
       "      <td>Jana Small Finance Bank is a Scheduled Commerc...</td>\n",
       "      <td>2006 (18 yrs old)</td>\n",
       "      <td>Public</td>\n",
       "      <td>NaN</td>\n",
       "      <td>3.9</td>\n",
       "      <td>NaN</td>\n",
       "      <td>Promotions / Appraisal</td>\n",
       "      <td>5.7k</td>\n",
       "    </tr>\n",
       "    <tr>\n",
       "      <th>3</th>\n",
       "      <td>Lupin</td>\n",
       "      <td>Mumbai, Maharashtra, India</td>\n",
       "      <td>Pharma</td>\n",
       "      <td>Lupin is a global pharmaceutical company offer...</td>\n",
       "      <td>1968 (56 yrs old)</td>\n",
       "      <td>Public</td>\n",
       "      <td>10k-50k</td>\n",
       "      <td>4.1</td>\n",
       "      <td>Skill Development / Learning, Company Culture,...</td>\n",
       "      <td>NaN</td>\n",
       "      <td>5.6k</td>\n",
       "    </tr>\n",
       "    <tr>\n",
       "      <th>4</th>\n",
       "      <td>Indian Army</td>\n",
       "      <td>New Delhi, Delhi, India</td>\n",
       "      <td>Defence &amp; Aerospace</td>\n",
       "      <td>The principal task of the Ministry is to frame...</td>\n",
       "      <td>1895 (129 yrs old)</td>\n",
       "      <td>Public</td>\n",
       "      <td>NaN</td>\n",
       "      <td>4.7</td>\n",
       "      <td>Job Security, Company Culture, Work Satisfaction</td>\n",
       "      <td>NaN</td>\n",
       "      <td>5.2k</td>\n",
       "    </tr>\n",
       "    <tr>\n",
       "      <th>...</th>\n",
       "      <td>...</td>\n",
       "      <td>...</td>\n",
       "      <td>...</td>\n",
       "      <td>...</td>\n",
       "      <td>...</td>\n",
       "      <td>...</td>\n",
       "      <td>...</td>\n",
       "      <td>...</td>\n",
       "      <td>...</td>\n",
       "      <td>...</td>\n",
       "      <td>...</td>\n",
       "    </tr>\n",
       "    <tr>\n",
       "      <th>6595</th>\n",
       "      <td>Scholastic</td>\n",
       "      <td>Gurgaon/Gurugram, Haryana, India</td>\n",
       "      <td>Printing &amp; Publishing</td>\n",
       "      <td>Scholastic Corporation is the world’s largest ...</td>\n",
       "      <td>1997 (27 yrs old)</td>\n",
       "      <td>Private</td>\n",
       "      <td>5k-10k</td>\n",
       "      <td>4.0</td>\n",
       "      <td>Work Life Balance</td>\n",
       "      <td>Promotions / Appraisal, Salary &amp; Benefits, Wor...</td>\n",
       "      <td>114</td>\n",
       "    </tr>\n",
       "    <tr>\n",
       "      <th>6596</th>\n",
       "      <td>Shri Mahant Indiresh Hospital</td>\n",
       "      <td>Dehradun, India</td>\n",
       "      <td>Healthcare</td>\n",
       "      <td>The associated Shri Mahant Indiresh hospital i...</td>\n",
       "      <td>2002 (22 yrs old)</td>\n",
       "      <td>Private</td>\n",
       "      <td>NaN</td>\n",
       "      <td>3.8</td>\n",
       "      <td>Work Satisfaction</td>\n",
       "      <td>Promotions / Appraisal, Salary &amp; Benefits</td>\n",
       "      <td>114</td>\n",
       "    </tr>\n",
       "    <tr>\n",
       "      <th>6597</th>\n",
       "      <td>RS Software</td>\n",
       "      <td>Milpitas, United States (USA)</td>\n",
       "      <td>IT Services &amp; Consulting</td>\n",
       "      <td>RS Software builds global, national and enterp...</td>\n",
       "      <td>1991 (33 yrs old)</td>\n",
       "      <td>Public</td>\n",
       "      <td>501-1k</td>\n",
       "      <td>3.6</td>\n",
       "      <td>NaN</td>\n",
       "      <td>Job Security, Work Life Balance, Promotions / ...</td>\n",
       "      <td>114</td>\n",
       "    </tr>\n",
       "    <tr>\n",
       "      <th>6598</th>\n",
       "      <td>Cheers Interactive</td>\n",
       "      <td>Utrecht, Albert Heijn, Netherlands</td>\n",
       "      <td>Management Consulting</td>\n",
       "      <td>FutureBridge tracks and advises on the future ...</td>\n",
       "      <td>2000 (24 yrs old)</td>\n",
       "      <td>Private</td>\n",
       "      <td>501-1k</td>\n",
       "      <td>3.7</td>\n",
       "      <td>NaN</td>\n",
       "      <td>Promotions / Appraisal, Company Culture, Work ...</td>\n",
       "      <td>114</td>\n",
       "    </tr>\n",
       "    <tr>\n",
       "      <th>6599</th>\n",
       "      <td>Projects &amp; Development India</td>\n",
       "      <td>Noida, Uttar Pradesh, India</td>\n",
       "      <td>Oil &amp; Gas</td>\n",
       "      <td>A premier design engineering and consultancy o...</td>\n",
       "      <td>1951 (73 yrs old)</td>\n",
       "      <td>Private</td>\n",
       "      <td>201-500</td>\n",
       "      <td>4.0</td>\n",
       "      <td>Work Life Balance, Work Satisfaction, Company ...</td>\n",
       "      <td>Job Security, Promotions / Appraisal</td>\n",
       "      <td>114</td>\n",
       "    </tr>\n",
       "  </tbody>\n",
       "</table>\n",
       "<p>6600 rows × 11 columns</p>\n",
       "</div>"
      ],
      "text/plain": [
       "                         Company_name                           Headquarters  \\\n",
       "0     ICICI Prudential Life Insurance             Mumbai, Maharashtra, India   \n",
       "1                       Bajaj Finance               Pune, Maharashtra, India   \n",
       "2             Jana Small Finance Bank  Bangalore/Bengaluru, Karnataka, India   \n",
       "3                               Lupin             Mumbai, Maharashtra, India   \n",
       "4                         Indian Army                New Delhi, Delhi, India   \n",
       "...                               ...                                    ...   \n",
       "6595                       Scholastic       Gurgaon/Gurugram, Haryana, India   \n",
       "6596    Shri Mahant Indiresh Hospital                        Dehradun, India   \n",
       "6597                      RS Software          Milpitas, United States (USA)   \n",
       "6598               Cheers Interactive     Utrecht, Albert Heijn, Netherlands   \n",
       "6599     Projects & Development India            Noida, Uttar Pradesh, India   \n",
       "\n",
       "                      Industry  \\\n",
       "0                    Insurance   \n",
       "1                         NBFC   \n",
       "2                      Banking   \n",
       "3                       Pharma   \n",
       "4          Defence & Aerospace   \n",
       "...                        ...   \n",
       "6595     Printing & Publishing   \n",
       "6596                Healthcare   \n",
       "6597  IT Services & Consulting   \n",
       "6598     Management Consulting   \n",
       "6599                 Oil & Gas   \n",
       "\n",
       "                                            Description                 Age  \\\n",
       "0     ICICI Prudential Life Insurance Company Limite...   2000 (24 yrs old)   \n",
       "1     Bajaj Finance Limited is the most diversified ...   1987 (37 yrs old)   \n",
       "2     Jana Small Finance Bank is a Scheduled Commerc...   2006 (18 yrs old)   \n",
       "3     Lupin is a global pharmaceutical company offer...   1968 (56 yrs old)   \n",
       "4     The principal task of the Ministry is to frame...  1895 (129 yrs old)   \n",
       "...                                                 ...                 ...   \n",
       "6595  Scholastic Corporation is the world’s largest ...   1997 (27 yrs old)   \n",
       "6596  The associated Shri Mahant Indiresh hospital i...   2002 (22 yrs old)   \n",
       "6597  RS Software builds global, national and enterp...   1991 (33 yrs old)   \n",
       "6598  FutureBridge tracks and advises on the future ...   2000 (24 yrs old)   \n",
       "6599  A premier design engineering and consultancy o...   1951 (73 yrs old)   \n",
       "\n",
       "     Ownership Employee_count Ratings  \\\n",
       "0       Public        10k-50k     4.1   \n",
       "1      Private        10k-50k     4.1   \n",
       "2       Public            NaN     3.9   \n",
       "3       Public        10k-50k     4.1   \n",
       "4       Public            NaN     4.7   \n",
       "...        ...            ...     ...   \n",
       "6595   Private         5k-10k     4.0   \n",
       "6596   Private            NaN     3.8   \n",
       "6597    Public         501-1k     3.6   \n",
       "6598   Private         501-1k     3.7   \n",
       "6599   Private        201-500     4.0   \n",
       "\n",
       "                                       Highly_rated_for  \\\n",
       "0     Job Security, Skill Development / Learning, Sa...   \n",
       "1     Salary & Benefits, Skill Development / Learnin...   \n",
       "2                                                   NaN   \n",
       "3     Skill Development / Learning, Company Culture,...   \n",
       "4      Job Security, Company Culture, Work Satisfaction   \n",
       "...                                                 ...   \n",
       "6595                                  Work Life Balance   \n",
       "6596                                  Work Satisfaction   \n",
       "6597                                                NaN   \n",
       "6598                                                NaN   \n",
       "6599  Work Life Balance, Work Satisfaction, Company ...   \n",
       "\n",
       "                                   Critically_rated_for Review_count  \n",
       "0                                                   NaN         5.8k  \n",
       "1                                                   NaN         5.8k  \n",
       "2                                Promotions / Appraisal         5.7k  \n",
       "3                                                   NaN         5.6k  \n",
       "4                                                   NaN         5.2k  \n",
       "...                                                 ...          ...  \n",
       "6595  Promotions / Appraisal, Salary & Benefits, Wor...          114  \n",
       "6596          Promotions / Appraisal, Salary & Benefits          114  \n",
       "6597  Job Security, Work Life Balance, Promotions / ...          114  \n",
       "6598  Promotions / Appraisal, Company Culture, Work ...          114  \n",
       "6599               Job Security, Promotions / Appraisal          114  \n",
       "\n",
       "[6600 rows x 11 columns]"
      ]
     },
     "execution_count": 16,
     "metadata": {},
     "output_type": "execute_result"
    }
   ],
   "source": [
    "df2"
   ]
  },
  {
   "cell_type": "code",
   "execution_count": null,
   "metadata": {
    "id": "P-l8znhHkcqB"
   },
   "outputs": [],
   "source": [
    "df2.isnull().sum()"
   ]
  },
  {
   "cell_type": "code",
   "execution_count": 10,
   "metadata": {},
   "outputs": [
    {
     "data": {
      "text/html": [
       "<div>\n",
       "<style scoped>\n",
       "    .dataframe tbody tr th:only-of-type {\n",
       "        vertical-align: middle;\n",
       "    }\n",
       "\n",
       "    .dataframe tbody tr th {\n",
       "        vertical-align: top;\n",
       "    }\n",
       "\n",
       "    .dataframe thead th {\n",
       "        text-align: right;\n",
       "    }\n",
       "</style>\n",
       "<table border=\"1\" class=\"dataframe\">\n",
       "  <thead>\n",
       "    <tr style=\"text-align: right;\">\n",
       "      <th></th>\n",
       "      <th>Company_name</th>\n",
       "      <th>Headquarters</th>\n",
       "      <th>Industry</th>\n",
       "      <th>Description</th>\n",
       "      <th>Age</th>\n",
       "      <th>Ownership</th>\n",
       "      <th>Employee_count</th>\n",
       "      <th>Ratings</th>\n",
       "      <th>Highly_rated_for</th>\n",
       "      <th>Critically_rated_for</th>\n",
       "      <th>Review_count</th>\n",
       "    </tr>\n",
       "  </thead>\n",
       "  <tbody>\n",
       "    <tr>\n",
       "      <th>0</th>\n",
       "      <td>ICICI Prudential Life Insurance</td>\n",
       "      <td>Mumbai, Maharashtra, India</td>\n",
       "      <td>Insurance</td>\n",
       "      <td>ICICI Prudential Life Insurance Company Limite...</td>\n",
       "      <td>2000 (24 yrs old)</td>\n",
       "      <td>Public</td>\n",
       "      <td>10k-50k</td>\n",
       "      <td>4.1</td>\n",
       "      <td>Job Security, Skill Development / Learning, Sa...</td>\n",
       "      <td>NaN</td>\n",
       "      <td>5.8k</td>\n",
       "    </tr>\n",
       "    <tr>\n",
       "      <th>1</th>\n",
       "      <td>Bajaj Finance</td>\n",
       "      <td>Pune, Maharashtra, India</td>\n",
       "      <td>NBFC</td>\n",
       "      <td>Bajaj Finance Limited is the most diversified ...</td>\n",
       "      <td>1987 (37 yrs old)</td>\n",
       "      <td>Private</td>\n",
       "      <td>10k-50k</td>\n",
       "      <td>4.1</td>\n",
       "      <td>Salary &amp; Benefits, Skill Development / Learnin...</td>\n",
       "      <td>NaN</td>\n",
       "      <td>5.8k</td>\n",
       "    </tr>\n",
       "    <tr>\n",
       "      <th>2</th>\n",
       "      <td>Jana Small Finance Bank</td>\n",
       "      <td>Bangalore/Bengaluru, Karnataka, India</td>\n",
       "      <td>Banking</td>\n",
       "      <td>Jana Small Finance Bank is a Scheduled Commerc...</td>\n",
       "      <td>2006 (18 yrs old)</td>\n",
       "      <td>Public</td>\n",
       "      <td>NaN</td>\n",
       "      <td>3.9</td>\n",
       "      <td>NaN</td>\n",
       "      <td>Promotions / Appraisal</td>\n",
       "      <td>5.7k</td>\n",
       "    </tr>\n",
       "    <tr>\n",
       "      <th>3</th>\n",
       "      <td>Lupin</td>\n",
       "      <td>Mumbai, Maharashtra, India</td>\n",
       "      <td>Pharma</td>\n",
       "      <td>Lupin is a global pharmaceutical company offer...</td>\n",
       "      <td>1968 (56 yrs old)</td>\n",
       "      <td>Public</td>\n",
       "      <td>10k-50k</td>\n",
       "      <td>4.1</td>\n",
       "      <td>Skill Development / Learning, Company Culture,...</td>\n",
       "      <td>NaN</td>\n",
       "      <td>5.6k</td>\n",
       "    </tr>\n",
       "    <tr>\n",
       "      <th>4</th>\n",
       "      <td>Indian Army</td>\n",
       "      <td>New Delhi, Delhi, India</td>\n",
       "      <td>Defence &amp; Aerospace</td>\n",
       "      <td>The principal task of the Ministry is to frame...</td>\n",
       "      <td>1895 (129 yrs old)</td>\n",
       "      <td>Public</td>\n",
       "      <td>NaN</td>\n",
       "      <td>4.7</td>\n",
       "      <td>Job Security, Company Culture, Work Satisfaction</td>\n",
       "      <td>NaN</td>\n",
       "      <td>5.2k</td>\n",
       "    </tr>\n",
       "    <tr>\n",
       "      <th>...</th>\n",
       "      <td>...</td>\n",
       "      <td>...</td>\n",
       "      <td>...</td>\n",
       "      <td>...</td>\n",
       "      <td>...</td>\n",
       "      <td>...</td>\n",
       "      <td>...</td>\n",
       "      <td>...</td>\n",
       "      <td>...</td>\n",
       "      <td>...</td>\n",
       "      <td>...</td>\n",
       "    </tr>\n",
       "    <tr>\n",
       "      <th>6595</th>\n",
       "      <td>Scholastic</td>\n",
       "      <td>Gurgaon/Gurugram, Haryana, India</td>\n",
       "      <td>Printing &amp; Publishing</td>\n",
       "      <td>Scholastic Corporation is the world’s largest ...</td>\n",
       "      <td>1997 (27 yrs old)</td>\n",
       "      <td>Private</td>\n",
       "      <td>5k-10k</td>\n",
       "      <td>4.0</td>\n",
       "      <td>Work Life Balance</td>\n",
       "      <td>Promotions / Appraisal, Salary &amp; Benefits, Wor...</td>\n",
       "      <td>114</td>\n",
       "    </tr>\n",
       "    <tr>\n",
       "      <th>6596</th>\n",
       "      <td>Shri Mahant Indiresh Hospital</td>\n",
       "      <td>Dehradun, India</td>\n",
       "      <td>Healthcare</td>\n",
       "      <td>The associated Shri Mahant Indiresh hospital i...</td>\n",
       "      <td>2002 (22 yrs old)</td>\n",
       "      <td>Private</td>\n",
       "      <td>NaN</td>\n",
       "      <td>3.8</td>\n",
       "      <td>Work Satisfaction</td>\n",
       "      <td>Promotions / Appraisal, Salary &amp; Benefits</td>\n",
       "      <td>114</td>\n",
       "    </tr>\n",
       "    <tr>\n",
       "      <th>6597</th>\n",
       "      <td>RS Software</td>\n",
       "      <td>Milpitas, United States (USA)</td>\n",
       "      <td>IT Services &amp; Consulting</td>\n",
       "      <td>RS Software builds global, national and enterp...</td>\n",
       "      <td>1991 (33 yrs old)</td>\n",
       "      <td>Public</td>\n",
       "      <td>501-1k</td>\n",
       "      <td>3.6</td>\n",
       "      <td>NaN</td>\n",
       "      <td>Job Security, Work Life Balance, Promotions / ...</td>\n",
       "      <td>114</td>\n",
       "    </tr>\n",
       "    <tr>\n",
       "      <th>6598</th>\n",
       "      <td>Cheers Interactive</td>\n",
       "      <td>Utrecht, Albert Heijn, Netherlands</td>\n",
       "      <td>Management Consulting</td>\n",
       "      <td>FutureBridge tracks and advises on the future ...</td>\n",
       "      <td>2000 (24 yrs old)</td>\n",
       "      <td>Private</td>\n",
       "      <td>501-1k</td>\n",
       "      <td>3.7</td>\n",
       "      <td>NaN</td>\n",
       "      <td>Promotions / Appraisal, Company Culture, Work ...</td>\n",
       "      <td>114</td>\n",
       "    </tr>\n",
       "    <tr>\n",
       "      <th>6599</th>\n",
       "      <td>Projects &amp; Development India</td>\n",
       "      <td>Noida, Uttar Pradesh, India</td>\n",
       "      <td>Oil &amp; Gas</td>\n",
       "      <td>A premier design engineering and consultancy o...</td>\n",
       "      <td>1951 (73 yrs old)</td>\n",
       "      <td>Private</td>\n",
       "      <td>201-500</td>\n",
       "      <td>4.0</td>\n",
       "      <td>Work Life Balance, Work Satisfaction, Company ...</td>\n",
       "      <td>Job Security, Promotions / Appraisal</td>\n",
       "      <td>114</td>\n",
       "    </tr>\n",
       "  </tbody>\n",
       "</table>\n",
       "<p>6600 rows × 11 columns</p>\n",
       "</div>"
      ],
      "text/plain": [
       "                         Company_name                           Headquarters  \\\n",
       "0     ICICI Prudential Life Insurance             Mumbai, Maharashtra, India   \n",
       "1                       Bajaj Finance               Pune, Maharashtra, India   \n",
       "2             Jana Small Finance Bank  Bangalore/Bengaluru, Karnataka, India   \n",
       "3                               Lupin             Mumbai, Maharashtra, India   \n",
       "4                         Indian Army                New Delhi, Delhi, India   \n",
       "...                               ...                                    ...   \n",
       "6595                       Scholastic       Gurgaon/Gurugram, Haryana, India   \n",
       "6596    Shri Mahant Indiresh Hospital                        Dehradun, India   \n",
       "6597                      RS Software          Milpitas, United States (USA)   \n",
       "6598               Cheers Interactive     Utrecht, Albert Heijn, Netherlands   \n",
       "6599     Projects & Development India            Noida, Uttar Pradesh, India   \n",
       "\n",
       "                      Industry  \\\n",
       "0                    Insurance   \n",
       "1                         NBFC   \n",
       "2                      Banking   \n",
       "3                       Pharma   \n",
       "4          Defence & Aerospace   \n",
       "...                        ...   \n",
       "6595     Printing & Publishing   \n",
       "6596                Healthcare   \n",
       "6597  IT Services & Consulting   \n",
       "6598     Management Consulting   \n",
       "6599                 Oil & Gas   \n",
       "\n",
       "                                            Description                 Age  \\\n",
       "0     ICICI Prudential Life Insurance Company Limite...   2000 (24 yrs old)   \n",
       "1     Bajaj Finance Limited is the most diversified ...   1987 (37 yrs old)   \n",
       "2     Jana Small Finance Bank is a Scheduled Commerc...   2006 (18 yrs old)   \n",
       "3     Lupin is a global pharmaceutical company offer...   1968 (56 yrs old)   \n",
       "4     The principal task of the Ministry is to frame...  1895 (129 yrs old)   \n",
       "...                                                 ...                 ...   \n",
       "6595  Scholastic Corporation is the world’s largest ...   1997 (27 yrs old)   \n",
       "6596  The associated Shri Mahant Indiresh hospital i...   2002 (22 yrs old)   \n",
       "6597  RS Software builds global, national and enterp...   1991 (33 yrs old)   \n",
       "6598  FutureBridge tracks and advises on the future ...   2000 (24 yrs old)   \n",
       "6599  A premier design engineering and consultancy o...   1951 (73 yrs old)   \n",
       "\n",
       "     Ownership Employee_count  Ratings  \\\n",
       "0       Public        10k-50k      4.1   \n",
       "1      Private        10k-50k      4.1   \n",
       "2       Public            NaN      3.9   \n",
       "3       Public        10k-50k      4.1   \n",
       "4       Public            NaN      4.7   \n",
       "...        ...            ...      ...   \n",
       "6595   Private         5k-10k      4.0   \n",
       "6596   Private            NaN      3.8   \n",
       "6597    Public         501-1k      3.6   \n",
       "6598   Private         501-1k      3.7   \n",
       "6599   Private        201-500      4.0   \n",
       "\n",
       "                                       Highly_rated_for  \\\n",
       "0     Job Security, Skill Development / Learning, Sa...   \n",
       "1     Salary & Benefits, Skill Development / Learnin...   \n",
       "2                                                   NaN   \n",
       "3     Skill Development / Learning, Company Culture,...   \n",
       "4      Job Security, Company Culture, Work Satisfaction   \n",
       "...                                                 ...   \n",
       "6595                                  Work Life Balance   \n",
       "6596                                  Work Satisfaction   \n",
       "6597                                                NaN   \n",
       "6598                                                NaN   \n",
       "6599  Work Life Balance, Work Satisfaction, Company ...   \n",
       "\n",
       "                                   Critically_rated_for Review_count  \n",
       "0                                                   NaN         5.8k  \n",
       "1                                                   NaN         5.8k  \n",
       "2                                Promotions / Appraisal         5.7k  \n",
       "3                                                   NaN         5.6k  \n",
       "4                                                   NaN         5.2k  \n",
       "...                                                 ...          ...  \n",
       "6595  Promotions / Appraisal, Salary & Benefits, Wor...          114  \n",
       "6596          Promotions / Appraisal, Salary & Benefits          114  \n",
       "6597  Job Security, Work Life Balance, Promotions / ...          114  \n",
       "6598  Promotions / Appraisal, Company Culture, Work ...          114  \n",
       "6599               Job Security, Promotions / Appraisal          114  \n",
       "\n",
       "[6600 rows x 11 columns]"
      ]
     },
     "execution_count": 10,
     "metadata": {},
     "output_type": "execute_result"
    }
   ],
   "source": [
    "df2 = pd.read_csv('Company_Details.csv')\n",
    "df2"
   ]
  },
  {
   "cell_type": "code",
   "execution_count": null,
   "metadata": {},
   "outputs": [],
   "source": []
  }
 ],
 "metadata": {
  "colab": {
   "gpuType": "T4",
   "provenance": []
  },
  "kernelspec": {
   "display_name": "Python 3",
   "name": "python3"
  },
  "language_info": {
   "codemirror_mode": {
    "name": "ipython",
    "version": 3
   },
   "file_extension": ".py",
   "mimetype": "text/x-python",
   "name": "python",
   "nbconvert_exporter": "python",
   "pygments_lexer": "ipython3",
   "version": "3.11.9"
  }
 },
 "nbformat": 4,
 "nbformat_minor": 0
}
